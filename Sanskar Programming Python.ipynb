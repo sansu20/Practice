{
 "cells": [
  {
   "cell_type": "markdown",
   "metadata": {},
   "source": [
    "# Programming practice\n",
    "[Link to website](https://adriann.github.io/programming_problems.html)"
   ]
  },
  {
   "cell_type": "markdown",
   "metadata": {},
   "source": [
    "Write a program that prints ‘Hello World’ to the screen."
   ]
  },
  {
   "cell_type": "code",
   "execution_count": 3,
   "metadata": {},
   "outputs": [
    {
     "name": "stdout",
     "output_type": "stream",
     "text": [
      "Hello World\n"
     ]
    }
   ],
   "source": [
    "print('Hello World')"
   ]
  },
  {
   "cell_type": "markdown",
   "metadata": {},
   "source": [
    "Write a program that asks the user for their name and greets them with their name."
   ]
  },
  {
   "cell_type": "code",
   "execution_count": null,
   "metadata": {},
   "outputs": [],
   "source": [
    "n = input('Type your name : ')\n",
    "print(n)"
   ]
  },
  {
   "cell_type": "markdown",
   "metadata": {},
   "source": [
    "Program to calculate roots of quadratic equation\n",
    "ax<sup>2</sup> + bx + c = 0\n",
    "Notes:\n",
    "#ask user for a, b, c and plug the values into the quadratic equation"
   ]
  },
  {
   "cell_type": "code",
   "execution_count": 1,
   "metadata": {},
   "outputs": [
    {
     "name": "stdout",
     "output_type": "stream",
     "text": [
      "Please enter the values of a, b, and c in order to find out the quadratic equation\n",
      "Quadratic equation formula ax²+bx+c=0\n",
      "Type value for a : 1\n",
      "Type value for b : 5\n",
      "Type value for c : 6\n",
      "The two possible roots are -2.0 and -3.0\n"
     ]
    }
   ],
   "source": [
    "import math\n",
    "\n",
    "print('Please enter the values of a, b, and c in order to find out the quadratic equation')\n",
    "print('Quadratic equation formula ax²+bx+c=0')\n",
    "a = int(input('Type value for a : '))\n",
    "b = int(input('Type value for b : '))\n",
    "c = int(input('Type value for c : '))\n",
    "z = (b**2) - (4*a*c)\n",
    "if z >= 0:\n",
    "    s = math.sqrt(z)\n",
    "    x1 = ((-b)+s)/2*a\n",
    "    x2 = ((-b)-s)/2*a\n",
    "    print('The two possible roots are', x1, 'and', x2)\n",
    "else:\n",
    "    print('Your root can not be calculated')"
   ]
  },
  {
   "cell_type": "code",
   "execution_count": null,
   "metadata": {},
   "outputs": [],
   "source": []
  }
 ],
 "metadata": {
  "kernelspec": {
   "display_name": "Python 3",
   "language": "python",
   "name": "python3"
  },
  "language_info": {
   "codemirror_mode": {
    "name": "ipython",
    "version": 3
   },
   "file_extension": ".py",
   "mimetype": "text/x-python",
   "name": "python",
   "nbconvert_exporter": "python",
   "pygments_lexer": "ipython3",
   "version": "3.7.6"
  }
 },
 "nbformat": 4,
 "nbformat_minor": 4
}
